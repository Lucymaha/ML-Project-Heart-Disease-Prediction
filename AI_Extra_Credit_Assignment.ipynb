{
  "nbformat": 4,
  "nbformat_minor": 0,
  "metadata": {
    "colab": {
      "provenance": [],
      "authorship_tag": "ABX9TyMURpAAXol35DuJFmILHBLo",
      "include_colab_link": true
    },
    "kernelspec": {
      "name": "python3",
      "display_name": "Python 3"
    },
    "language_info": {
      "name": "python"
    }
  },
  "cells": [
    {
      "cell_type": "markdown",
      "metadata": {
        "id": "view-in-github",
        "colab_type": "text"
      },
      "source": [
        "<a href=\"https://colab.research.google.com/github/Lucymaha/ML-Project-Heart-Disease-Prediction/blob/main/AI_Extra_Credit_Assignment.ipynb\" target=\"_parent\"><img src=\"https://colab.research.google.com/assets/colab-badge.svg\" alt=\"Open In Colab\"/></a>"
      ]
    },
    {
      "cell_type": "code",
      "execution_count": 1,
      "metadata": {
        "id": "MBLJPI-eZ-vE"
      },
      "outputs": [],
      "source": [
        "import torch\n",
        "import torch.nn as nn\n",
        "import torch.optim as optim\n",
        "import torch.nn.functional as F\n",
        "from torch.utils.data import DataLoader, SubsetRandomSampler\n",
        "from torchvision import datasets, transforms\n",
        "import time"
      ]
    },
    {
      "cell_type": "code",
      "source": [
        "BATCH_SIZE = 64\n",
        "NUM_EPOCHS = 20\n",
        "DEVICE = torch.device('cuda:0' if torch.cuda.is_available() else 'cpu')"
      ],
      "metadata": {
        "id": "PVoZklm5ad3J"
      },
      "execution_count": 2,
      "outputs": []
    },
    {
      "cell_type": "code",
      "source": [
        "transform = transforms.Compose([\n",
        "transforms.ToTensor(),\n",
        "transforms.Normalize((0.5,), (0.5,))\n",
        "])\n",
        "train_dataset = datasets.MNIST(root='./data',\n",
        "train=True,\n",
        "download=True,\n",
        "transform=transform)\n",
        "valid_dataset = datasets.MNIST(root='./data',\n",
        "train=True,\n",
        "transform=transform)\n",
        "test_dataset = datasets.MNIST(root='./data',\n",
        "train=False,\n",
        "transform=transform)"
      ],
      "metadata": {
        "colab": {
          "base_uri": "https://localhost:8080/"
        },
        "id": "QnW1kgOVawKc",
        "outputId": "1b47c464-e61f-4071-da1d-ce1ddf427216"
      },
      "execution_count": 3,
      "outputs": [
        {
          "output_type": "stream",
          "name": "stdout",
          "text": [
            "Downloading http://yann.lecun.com/exdb/mnist/train-images-idx3-ubyte.gz\n",
            "Downloading http://yann.lecun.com/exdb/mnist/train-images-idx3-ubyte.gz to ./data/MNIST/raw/train-images-idx3-ubyte.gz\n"
          ]
        },
        {
          "output_type": "stream",
          "name": "stderr",
          "text": [
            "100%|██████████| 9912422/9912422 [04:28<00:00, 36985.85it/s]\n"
          ]
        },
        {
          "output_type": "stream",
          "name": "stdout",
          "text": [
            "Extracting ./data/MNIST/raw/train-images-idx3-ubyte.gz to ./data/MNIST/raw\n",
            "\n",
            "Downloading http://yann.lecun.com/exdb/mnist/train-labels-idx1-ubyte.gz\n",
            "Downloading http://yann.lecun.com/exdb/mnist/train-labels-idx1-ubyte.gz to ./data/MNIST/raw/train-labels-idx1-ubyte.gz\n"
          ]
        },
        {
          "output_type": "stream",
          "name": "stderr",
          "text": [
            "100%|██████████| 28881/28881 [00:00<00:00, 2590860.74it/s]"
          ]
        },
        {
          "output_type": "stream",
          "name": "stdout",
          "text": [
            "Extracting ./data/MNIST/raw/train-labels-idx1-ubyte.gz to ./data/MNIST/raw\n",
            "\n",
            "Downloading http://yann.lecun.com/exdb/mnist/t10k-images-idx3-ubyte.gz\n",
            "Downloading http://yann.lecun.com/exdb/mnist/t10k-images-idx3-ubyte.gz to ./data/MNIST/raw/t10k-images-idx3-ubyte.gz\n"
          ]
        },
        {
          "output_type": "stream",
          "name": "stderr",
          "text": [
            "\n",
            "100%|██████████| 1648877/1648877 [00:46<00:00, 35087.65it/s]\n"
          ]
        },
        {
          "output_type": "stream",
          "name": "stdout",
          "text": [
            "Extracting ./data/MNIST/raw/t10k-images-idx3-ubyte.gz to ./data/MNIST/raw\n",
            "\n",
            "Downloading http://yann.lecun.com/exdb/mnist/t10k-labels-idx1-ubyte.gz\n",
            "Downloading http://yann.lecun.com/exdb/mnist/t10k-labels-idx1-ubyte.gz to ./data/MNIST/raw/t10k-labels-idx1-ubyte.gz\n"
          ]
        },
        {
          "output_type": "stream",
          "name": "stderr",
          "text": [
            "100%|██████████| 4542/4542 [00:00<00:00, 13138295.70it/s]\n"
          ]
        },
        {
          "output_type": "stream",
          "name": "stdout",
          "text": [
            "Extracting ./data/MNIST/raw/t10k-labels-idx1-ubyte.gz to ./data/MNIST/raw\n",
            "\n"
          ]
        }
      ]
    },
    {
      "cell_type": "code",
      "source": [
        "validation_fraction = 0.1"
      ],
      "metadata": {
        "id": "nORGfh6vcZUR"
      },
      "execution_count": 4,
      "outputs": []
    },
    {
      "cell_type": "code",
      "source": [
        "num = int(validation_fraction * 60000)\n",
        "train_indices = torch.arange(0, 60000 - num)\n",
        "valid_indices = torch.arange(60000 - num, 60000)"
      ],
      "metadata": {
        "id": "B8hjDxvJchyi"
      },
      "execution_count": 5,
      "outputs": []
    },
    {
      "cell_type": "code",
      "source": [
        "train_sampler = SubsetRandomSampler(train_indices)\n",
        "valid_sampler = SubsetRandomSampler(valid_indices)"
      ],
      "metadata": {
        "id": "_j80I1BLcsNM"
      },
      "execution_count": 6,
      "outputs": []
    },
    {
      "cell_type": "code",
      "source": [
        "train_loader = DataLoader(dataset=train_dataset,\n",
        "batch_size=BATCH_SIZE,\n",
        "drop_last=True,\n",
        "sampler=train_sampler)\n",
        "valid_loader = DataLoader(dataset=valid_dataset,\n",
        "batch_size=BATCH_SIZE,\n",
        "sampler=valid_sampler)\n",
        "test_loader = DataLoader(dataset=test_dataset,\n",
        "batch_size=BATCH_SIZE,\n",
        "shuffle=False)"
      ],
      "metadata": {
        "id": "ARqJDtFOcxvb"
      },
      "execution_count": 7,
      "outputs": []
    },
    {
      "cell_type": "code",
      "source": [
        "# Checking the dataset\n",
        "for images, labels in train_loader:\n",
        "    print('Image batch dimensions:', images.shape)\n",
        "    print('Image label dimensions:', labels.shape)\n",
        "    break"
      ],
      "metadata": {
        "colab": {
          "base_uri": "https://localhost:8080/"
        },
        "id": "9YVIENQwoLVo",
        "outputId": "cf7da1ec-e646-4320-c85f-6dac53e3974b"
      },
      "execution_count": 49,
      "outputs": [
        {
          "output_type": "stream",
          "name": "stdout",
          "text": [
            "Image batch dimensions: torch.Size([64, 1, 28, 28])\n",
            "Image label dimensions: torch.Size([64])\n"
          ]
        }
      ]
    },
    {
      "cell_type": "code",
      "source": [
        "import matplotlib.pyplot as plt\n",
        "# Display a grid of sample images\n",
        "plt.figure(figsize=(10, 10))\n",
        "for i, (images, labels) in enumerate(train_loader):\n",
        "    for j in range(25):\n",
        "        plt.subplot(5, 5, j + 1)\n",
        "        plt.imshow(images[j].squeeze(), cmap='gray')\n",
        "        plt.axis('off')\n",
        "        break\n",
        "plt.show()"
      ],
      "metadata": {
        "colab": {
          "base_uri": "https://localhost:8080/",
          "height": 169
        },
        "id": "-2J0N7pWoWMe",
        "outputId": "f58d4c8b-bcb4-4c29-d978-dfbffea2afdb"
      },
      "execution_count": 51,
      "outputs": [
        {
          "output_type": "display_data",
          "data": {
            "text/plain": [
              "<Figure size 1000x1000 with 1 Axes>"
            ],
            "image/png": "[encoded data removed]"
          },
          "metadata": {}
        }
      ]
    },
    {
      "cell_type": "code",
      "source": [
        "class MLP(nn.Module):\n",
        "    def __init__(self, num_features, num_hidden_1, num_hidden_2, num_classes):\n",
        "        super().__init__()\n",
        "        self.network = nn.Sequential(\n",
        "            nn.Flatten(),\n",
        "            nn.Linear(num_features, num_hidden_1),\n",
        "            nn.BatchNorm1d(num_hidden_1),\n",
        "            nn.ReLU(),\n",
        "            nn.Dropout(0.5),\n",
        "            nn.Linear(num_hidden_1, num_hidden_2),\n",
        "            nn.BatchNorm1d(num_hidden_2),\n",
        "            nn.ReLU(),\n",
        "            nn.Dropout(0.3),\n",
        "            nn.Linear(num_hidden_2, num_classes)\n",
        "        )\n",
        "\n",
        "    def forward(self, x):\n",
        "        logits = self.network(x)\n",
        "        return logits\n",
        "\n",
        "\n"
      ],
      "metadata": {
        "id": "MHjY_piWcxbQ"
      },
      "execution_count": 41,
      "outputs": []
    },
    {
      "cell_type": "code",
      "source": [
        "model = MLP(num_features=28*28,\n",
        "num_hidden_1=128,\n",
        "num_hidden_2=64,\n",
        "num_classes=10)\n",
        "model = model.to(DEVICE)\n",
        "criterion = nn.CrossEntropyLoss()\n",
        "optimizer = torch.optim.SGD(model.parameters(), lr=0.1, momentum=0.9,\n",
        "weight_decay=0.0001)\n",
        "scheduler = torch.optim.lr_scheduler.ReduceLROnPlateau(optimizer,\n",
        "factor=0.1,\n",
        "mode='min')"
      ],
      "metadata": {
        "id": "Fkfb2SVOd6nl"
      },
      "execution_count": 42,
      "outputs": []
    },
    {
      "cell_type": "code",
      "source": [
        "# Define your optimizer (using Adam)\n",
        "optimizer = optim.Adam(model.parameters(), lr=0.001)"
      ],
      "metadata": {
        "id": "GfKhOVm6o3wt"
      },
      "execution_count": 52,
      "outputs": []
    },
    {
      "cell_type": "code",
      "source": [
        "# Create the scheduler with step decay\n",
        "scheduler = torch.optim.lr_scheduler.StepLR(optimizer, step_size=30, gamma=0.1)"
      ],
      "metadata": {
        "id": "G8soRdZTo_gq"
      },
      "execution_count": 54,
      "outputs": []
    },
    {
      "cell_type": "code",
      "source": [
        "# Create the scheduler with exponential decay\n",
        "scheduler = torch.optim.lr_scheduler.ExponentialLR(optimizer, gamma=0.95)"
      ],
      "metadata": {
        "id": "Grf3fvISpJwf"
      },
      "execution_count": 56,
      "outputs": []
    },
    {
      "cell_type": "code",
      "source": [
        "\n",
        "def compute_accuracy(data_loader, model, DEVICE):\n",
        "    with torch.no_grad():\n",
        "        correct_pred, num_examples = 0, 0\n",
        "        for i, (features, targets) in enumerate(data_loader):\n",
        "            features = features.to(DEVICE)\n",
        "            targets = targets.to(DEVICE)  # Ensure targets are on the same device as features\n",
        "            # Assuming your model outputs logits directly (no softmax applied)\n",
        "            logits = model(features)\n",
        "            _, predicted_labels = torch.max(logits, 1)\n",
        "            num_examples += targets.size(0)\n",
        "            correct_pred += (predicted_labels == targets).sum().item()  # Convert to Python scalar\n",
        "        return correct_pred / num_examples * 100\n"
      ],
      "metadata": {
        "id": "jFUBkpHid8CM"
      },
      "execution_count": 43,
      "outputs": []
    },
    {
      "cell_type": "code",
      "source": [
        "# Now let's put everything together\n",
        "start_time = time.time()\n",
        "minibatch_loss_list, train_acc_list, valid_acc_list = [], [], []\n",
        "\n",
        "for epoch in range(NUM_EPOCHS):\n",
        "    model.train()\n",
        "    for batch_idx, (features, targets) in enumerate(train_loader):\n",
        "        features = features.to(DEVICE)\n",
        "        targets = targets.to(DEVICE)\n",
        "        logits = model(features)\n",
        "        loss = criterion(logits, targets)\n",
        "        optimizer.zero_grad()\n",
        "        loss.backward()\n",
        "        optimizer.step()\n",
        "        minibatch_loss_list.append(loss.item())\n",
        "        logging_interval = 100\n",
        "        if not batch_idx % logging_interval:\n",
        "            print(\"Epoch: \", epoch+1,\"/\", NUM_EPOCHS,\"| Batch \",batch_idx,\"/\",len(train_loader), f'| Loss: {loss:.4f}')\n",
        "\n",
        "    model.eval()\n",
        "    with torch.no_grad(): # save memory during inference\n",
        "        train_acc = compute_accuracy(train_loader, model, DEVICE)\n",
        "        valid_acc = compute_accuracy(valid_loader, model, DEVICE)\n",
        "        print(\"Epoch: \", epoch+1, \"/\",NUM_EPOCHS,\n",
        "              f'| Train: {train_acc :.2f}% '\n",
        "              f'| Validation: {valid_acc :.2f}%')\n",
        "        train_acc_list.append(train_acc)\n",
        "        valid_acc_list.append(valid_acc)\n",
        "\n",
        "    elapsed = (time.time() - start_time)/60\n",
        "    print(\"Time elapsed: \",elapsed, \" min\")\n",
        "    scheduler.step(minibatch_loss_list[-1])\n",
        "\n",
        "elapsed = (time.time() - start_time)/60\n",
        "print(f'Total Training Time: {elapsed:.2f} min')\n",
        "test_acc = compute_accuracy(test_loader, model, DEVICE)\n",
        "print(f'Test accuracy {test_acc :.2f}%')\n"
      ],
      "metadata": {
        "colab": {
          "base_uri": "https://localhost:8080/"
        },
        "id": "OuPVTkwneStT",
        "outputId": "27d8f983-ce73-4170-abb1-7dfe07a652b7"
      },
      "execution_count": 45,
      "outputs": [
        {
          "output_type": "stream",
          "name": "stdout",
          "text": [
            "Epoch:  1 / 20 | Batch  0 / 843 | Loss: 0.0688\n",
            "Epoch:  1 / 20 | Batch  100 / 843 | Loss: 0.3262\n",
            "Epoch:  1 / 20 | Batch  200 / 843 | Loss: 0.2334\n",
            "Epoch:  1 / 20 | Batch  300 / 843 | Loss: 0.4546\n",
            "Epoch:  1 / 20 | Batch  400 / 843 | Loss: 0.3093\n",
            "Epoch:  1 / 20 | Batch  500 / 843 | Loss: 0.2941\n",
            "Epoch:  1 / 20 | Batch  600 / 843 | Loss: 0.2020\n",
            "Epoch:  1 / 20 | Batch  700 / 843 | Loss: 0.2686\n",
            "Epoch:  1 / 20 | Batch  800 / 843 | Loss: 0.2926\n",
            "Epoch:  1 / 20 | Train: 96.25% | Validation: 97.03%\n",
            "Time elapsed:  0.5842756986618042  min\n",
            "Epoch:  2 / 20 | Batch  0 / 843 | Loss: 0.2898\n",
            "Epoch:  2 / 20 | Batch  100 / 843 | Loss: 0.4680\n",
            "Epoch:  2 / 20 | Batch  200 / 843 | Loss: 0.2228\n",
            "Epoch:  2 / 20 | Batch  300 / 843 | Loss: 0.2091\n",
            "Epoch:  2 / 20 | Batch  400 / 843 | Loss: 0.4837\n",
            "Epoch:  2 / 20 | Batch  500 / 843 | Loss: 0.1566\n",
            "Epoch:  2 / 20 | Batch  600 / 843 | Loss: 0.2219\n",
            "Epoch:  2 / 20 | Batch  700 / 843 | Loss: 0.2755\n",
            "Epoch:  2 / 20 | Batch  800 / 843 | Loss: 0.0774\n",
            "Epoch:  2 / 20 | Train: 96.87% | Validation: 97.53%\n",
            "Time elapsed:  1.1623919367790223  min\n",
            "Epoch:  3 / 20 | Batch  0 / 843 | Loss: 0.0769\n",
            "Epoch:  3 / 20 | Batch  100 / 843 | Loss: 0.1614\n",
            "Epoch:  3 / 20 | Batch  200 / 843 | Loss: 0.2855\n",
            "Epoch:  3 / 20 | Batch  300 / 843 | Loss: 0.2909\n",
            "Epoch:  3 / 20 | Batch  400 / 843 | Loss: 0.2335\n",
            "Epoch:  3 / 20 | Batch  500 / 843 | Loss: 0.2668\n",
            "Epoch:  3 / 20 | Batch  600 / 843 | Loss: 0.1672\n",
            "Epoch:  3 / 20 | Batch  700 / 843 | Loss: 0.2501\n",
            "Epoch:  3 / 20 | Batch  800 / 843 | Loss: 0.1755\n",
            "Epoch:  3 / 20 | Train: 96.87% | Validation: 97.30%\n",
            "Time elapsed:  1.7510040640830993  min\n",
            "Epoch:  4 / 20 | Batch  0 / 843 | Loss: 0.1542\n",
            "Epoch:  4 / 20 | Batch  100 / 843 | Loss: 0.1308\n",
            "Epoch:  4 / 20 | Batch  200 / 843 | Loss: 0.3342\n",
            "Epoch:  4 / 20 | Batch  300 / 843 | Loss: 0.1696\n",
            "Epoch:  4 / 20 | Batch  400 / 843 | Loss: 0.1870\n",
            "Epoch:  4 / 20 | Batch  500 / 843 | Loss: 0.3247\n",
            "Epoch:  4 / 20 | Batch  600 / 843 | Loss: 0.6605\n",
            "Epoch:  4 / 20 | Batch  700 / 843 | Loss: 0.2939\n",
            "Epoch:  4 / 20 | Batch  800 / 843 | Loss: 0.2263\n",
            "Epoch:  4 / 20 | Train: 97.15% | Validation: 97.72%\n",
            "Time elapsed:  2.324467710653941  min\n",
            "Epoch:  5 / 20 | Batch  0 / 843 | Loss: 0.2519\n",
            "Epoch:  5 / 20 | Batch  100 / 843 | Loss: 0.1106\n",
            "Epoch:  5 / 20 | Batch  200 / 843 | Loss: 0.3655\n",
            "Epoch:  5 / 20 | Batch  300 / 843 | Loss: 0.3160\n",
            "Epoch:  5 / 20 | Batch  400 / 843 | Loss: 0.1240\n",
            "Epoch:  5 / 20 | Batch  500 / 843 | Loss: 0.1199\n",
            "Epoch:  5 / 20 | Batch  600 / 843 | Loss: 0.3299\n",
            "Epoch:  5 / 20 | Batch  700 / 843 | Loss: 0.3423\n",
            "Epoch:  5 / 20 | Batch  800 / 843 | Loss: 0.1763\n",
            "Epoch:  5 / 20 | Train: 97.22% | Validation: 97.53%\n",
            "Time elapsed:  2.919209384918213  min\n",
            "Epoch:  6 / 20 | Batch  0 / 843 | Loss: 0.2347\n",
            "Epoch:  6 / 20 | Batch  100 / 843 | Loss: 0.1039\n",
            "Epoch:  6 / 20 | Batch  200 / 843 | Loss: 0.2641\n",
            "Epoch:  6 / 20 | Batch  300 / 843 | Loss: 0.2014\n",
            "Epoch:  6 / 20 | Batch  400 / 843 | Loss: 0.0906\n",
            "Epoch:  6 / 20 | Batch  500 / 843 | Loss: 0.2048\n",
            "Epoch:  6 / 20 | Batch  600 / 843 | Loss: 0.3536\n",
            "Epoch:  6 / 20 | Batch  700 / 843 | Loss: 0.0900\n",
            "Epoch:  6 / 20 | Batch  800 / 843 | Loss: 0.2562\n",
            "Epoch:  6 / 20 | Train: 97.70% | Validation: 97.83%\n",
            "Time elapsed:  3.5148728330930075  min\n",
            "Epoch:  7 / 20 | Batch  0 / 843 | Loss: 0.2428\n",
            "Epoch:  7 / 20 | Batch  100 / 843 | Loss: 0.3479\n",
            "Epoch:  7 / 20 | Batch  200 / 843 | Loss: 0.1497\n",
            "Epoch:  7 / 20 | Batch  300 / 843 | Loss: 0.1981\n",
            "Epoch:  7 / 20 | Batch  400 / 843 | Loss: 0.1564\n",
            "Epoch:  7 / 20 | Batch  500 / 843 | Loss: 0.2649\n",
            "Epoch:  7 / 20 | Batch  600 / 843 | Loss: 0.1416\n",
            "Epoch:  7 / 20 | Batch  700 / 843 | Loss: 0.1424\n",
            "Epoch:  7 / 20 | Batch  800 / 843 | Loss: 0.0787\n",
            "Epoch:  7 / 20 | Train: 97.63% | Validation: 97.73%\n",
            "Time elapsed:  4.116371500492096  min\n",
            "Epoch:  8 / 20 | Batch  0 / 843 | Loss: 0.2030\n",
            "Epoch:  8 / 20 | Batch  100 / 843 | Loss: 0.1660\n",
            "Epoch:  8 / 20 | Batch  200 / 843 | Loss: 0.1115\n",
            "Epoch:  8 / 20 | Batch  300 / 843 | Loss: 0.1796\n",
            "Epoch:  8 / 20 | Batch  400 / 843 | Loss: 0.2522\n",
            "Epoch:  8 / 20 | Batch  500 / 843 | Loss: 0.2724\n",
            "Epoch:  8 / 20 | Batch  600 / 843 | Loss: 0.1606\n",
            "Epoch:  8 / 20 | Batch  700 / 843 | Loss: 0.1603\n",
            "Epoch:  8 / 20 | Batch  800 / 843 | Loss: 0.2495\n",
            "Epoch:  8 / 20 | Train: 97.63% | Validation: 97.65%\n",
            "Time elapsed:  4.708271813392639  min\n",
            "Epoch:  9 / 20 | Batch  0 / 843 | Loss: 0.1515\n",
            "Epoch:  9 / 20 | Batch  100 / 843 | Loss: 0.2103\n",
            "Epoch:  9 / 20 | Batch  200 / 843 | Loss: 0.1868\n",
            "Epoch:  9 / 20 | Batch  300 / 843 | Loss: 0.2984\n",
            "Epoch:  9 / 20 | Batch  400 / 843 | Loss: 0.1736\n",
            "Epoch:  9 / 20 | Batch  500 / 843 | Loss: 0.1997\n",
            "Epoch:  9 / 20 | Batch  600 / 843 | Loss: 0.1548\n",
            "Epoch:  9 / 20 | Batch  700 / 843 | Loss: 0.1416\n",
            "Epoch:  9 / 20 | Batch  800 / 843 | Loss: 0.2445\n",
            "Epoch:  9 / 20 | Train: 97.67% | Validation: 97.80%\n",
            "Time elapsed:  5.299272425969442  min\n",
            "Epoch:  10 / 20 | Batch  0 / 843 | Loss: 0.2098\n",
            "Epoch:  10 / 20 | Batch  100 / 843 | Loss: 0.1123\n",
            "Epoch:  10 / 20 | Batch  200 / 843 | Loss: 0.1732\n",
            "Epoch:  10 / 20 | Batch  300 / 843 | Loss: 0.3069\n",
            "Epoch:  10 / 20 | Batch  400 / 843 | Loss: 0.2471\n",
            "Epoch:  10 / 20 | Batch  500 / 843 | Loss: 0.3851\n",
            "Epoch:  10 / 20 | Batch  600 / 843 | Loss: 0.2285\n",
            "Epoch:  10 / 20 | Batch  700 / 843 | Loss: 0.2931\n",
            "Epoch:  10 / 20 | Batch  800 / 843 | Loss: 0.1679\n",
            "Epoch:  10 / 20 | Train: 97.71% | Validation: 97.63%\n",
            "Time elapsed:  5.880594976743063  min\n",
            "Epoch:  11 / 20 | Batch  0 / 843 | Loss: 0.0806\n",
            "Epoch:  11 / 20 | Batch  100 / 843 | Loss: 0.1097\n",
            "Epoch:  11 / 20 | Batch  200 / 843 | Loss: 0.1940\n",
            "Epoch:  11 / 20 | Batch  300 / 843 | Loss: 0.1114\n",
            "Epoch:  11 / 20 | Batch  400 / 843 | Loss: 0.2019\n",
            "Epoch:  11 / 20 | Batch  500 / 843 | Loss: 0.0658\n",
            "Epoch:  11 / 20 | Batch  600 / 843 | Loss: 0.2397\n",
            "Epoch:  11 / 20 | Batch  700 / 843 | Loss: 0.1901\n",
            "Epoch:  11 / 20 | Batch  800 / 843 | Loss: 0.0927\n",
            "Epoch:  11 / 20 | Train: 97.72% | Validation: 97.53%\n",
            "Time elapsed:  6.445632640520731  min\n",
            "Epoch:  12 / 20 | Batch  0 / 843 | Loss: 0.0949\n",
            "Epoch:  12 / 20 | Batch  100 / 843 | Loss: 0.0889\n",
            "Epoch:  12 / 20 | Batch  200 / 843 | Loss: 0.3756\n",
            "Epoch:  12 / 20 | Batch  300 / 843 | Loss: 0.0739\n",
            "Epoch:  12 / 20 | Batch  400 / 843 | Loss: 0.1909\n",
            "Epoch:  12 / 20 | Batch  500 / 843 | Loss: 0.0756\n",
            "Epoch:  12 / 20 | Batch  600 / 843 | Loss: 0.3455\n",
            "Epoch:  12 / 20 | Batch  700 / 843 | Loss: 0.2044\n",
            "Epoch:  12 / 20 | Batch  800 / 843 | Loss: 0.2348\n",
            "Epoch:  12 / 20 | Train: 97.90% | Validation: 97.77%\n",
            "Time elapsed:  7.025531935691833  min\n",
            "Epoch:  13 / 20 | Batch  0 / 843 | Loss: 0.1217\n",
            "Epoch:  13 / 20 | Batch  100 / 843 | Loss: 0.3151\n",
            "Epoch:  13 / 20 | Batch  200 / 843 | Loss: 0.2336\n",
            "Epoch:  13 / 20 | Batch  300 / 843 | Loss: 0.1754\n",
            "Epoch:  13 / 20 | Batch  400 / 843 | Loss: 0.0654\n",
            "Epoch:  13 / 20 | Batch  500 / 843 | Loss: 0.2730\n",
            "Epoch:  13 / 20 | Batch  600 / 843 | Loss: 0.1908\n",
            "Epoch:  13 / 20 | Batch  700 / 843 | Loss: 0.2189\n",
            "Epoch:  13 / 20 | Batch  800 / 843 | Loss: 0.1793\n",
            "Epoch:  13 / 20 | Train: 97.91% | Validation: 97.93%\n",
            "Time elapsed:  7.608172595500946  min\n",
            "Epoch:  14 / 20 | Batch  0 / 843 | Loss: 0.1324\n",
            "Epoch:  14 / 20 | Batch  100 / 843 | Loss: 0.1104\n",
            "Epoch:  14 / 20 | Batch  200 / 843 | Loss: 0.1815\n",
            "Epoch:  14 / 20 | Batch  300 / 843 | Loss: 0.2900\n",
            "Epoch:  14 / 20 | Batch  400 / 843 | Loss: 0.2033\n",
            "Epoch:  14 / 20 | Batch  500 / 843 | Loss: 0.0995\n",
            "Epoch:  14 / 20 | Batch  600 / 843 | Loss: 0.2333\n",
            "Epoch:  14 / 20 | Batch  700 / 843 | Loss: 0.2990\n",
            "Epoch:  14 / 20 | Batch  800 / 843 | Loss: 0.0838\n",
            "Epoch:  14 / 20 | Train: 97.94% | Validation: 97.98%\n",
            "Time elapsed:  8.182555202643076  min\n",
            "Epoch:  15 / 20 | Batch  0 / 843 | Loss: 0.3310\n",
            "Epoch:  15 / 20 | Batch  100 / 843 | Loss: 0.1696\n",
            "Epoch:  15 / 20 | Batch  200 / 843 | Loss: 0.4676\n",
            "Epoch:  15 / 20 | Batch  300 / 843 | Loss: 0.2616\n",
            "Epoch:  15 / 20 | Batch  400 / 843 | Loss: 0.1052\n",
            "Epoch:  15 / 20 | Batch  500 / 843 | Loss: 0.6928\n",
            "Epoch:  15 / 20 | Batch  600 / 843 | Loss: 0.3690\n",
            "Epoch:  15 / 20 | Batch  700 / 843 | Loss: 0.3877\n",
            "Epoch:  15 / 20 | Batch  800 / 843 | Loss: 0.3364\n",
            "Epoch:  15 / 20 | Train: 97.98% | Validation: 97.87%\n",
            "Time elapsed:  8.735730417569478  min\n",
            "Epoch:  16 / 20 | Batch  0 / 843 | Loss: 0.5212\n",
            "Epoch:  16 / 20 | Batch  100 / 843 | Loss: 0.2717\n",
            "Epoch:  16 / 20 | Batch  200 / 843 | Loss: 0.1032\n",
            "Epoch:  16 / 20 | Batch  300 / 843 | Loss: 0.2691\n",
            "Epoch:  16 / 20 | Batch  400 / 843 | Loss: 0.2487\n",
            "Epoch:  16 / 20 | Batch  500 / 843 | Loss: 0.1937\n",
            "Epoch:  16 / 20 | Batch  600 / 843 | Loss: 0.2871\n",
            "Epoch:  16 / 20 | Batch  700 / 843 | Loss: 0.2387\n",
            "Epoch:  16 / 20 | Batch  800 / 843 | Loss: 0.1823\n",
            "Epoch:  16 / 20 | Train: 97.96% | Validation: 97.72%\n",
            "Time elapsed:  9.260832953453065  min\n",
            "Epoch:  17 / 20 | Batch  0 / 843 | Loss: 0.2310\n",
            "Epoch:  17 / 20 | Batch  100 / 843 | Loss: 0.0603\n",
            "Epoch:  17 / 20 | Batch  200 / 843 | Loss: 0.1559\n",
            "Epoch:  17 / 20 | Batch  300 / 843 | Loss: 0.2271\n",
            "Epoch:  17 / 20 | Batch  400 / 843 | Loss: 0.3938\n",
            "Epoch:  17 / 20 | Batch  500 / 843 | Loss: 0.2602\n",
            "Epoch:  17 / 20 | Batch  600 / 843 | Loss: 0.3707\n",
            "Epoch:  17 / 20 | Batch  700 / 843 | Loss: 0.1994\n",
            "Epoch:  17 / 20 | Batch  800 / 843 | Loss: 0.2393\n",
            "Epoch:  17 / 20 | Train: 97.97% | Validation: 98.10%\n",
            "Time elapsed:  9.78920644124349  min\n",
            "Epoch:  18 / 20 | Batch  0 / 843 | Loss: 0.2461\n",
            "Epoch:  18 / 20 | Batch  100 / 843 | Loss: 0.1429\n",
            "Epoch:  18 / 20 | Batch  200 / 843 | Loss: 0.3597\n",
            "Epoch:  18 / 20 | Batch  300 / 843 | Loss: 0.1960\n",
            "Epoch:  18 / 20 | Batch  400 / 843 | Loss: 0.2461\n",
            "Epoch:  18 / 20 | Batch  500 / 843 | Loss: 0.1882\n",
            "Epoch:  18 / 20 | Batch  600 / 843 | Loss: 0.3646\n",
            "Epoch:  18 / 20 | Batch  700 / 843 | Loss: 0.3387\n",
            "Epoch:  18 / 20 | Batch  800 / 843 | Loss: 0.1723\n",
            "Epoch:  18 / 20 | Train: 97.93% | Validation: 98.10%\n",
            "Time elapsed:  10.304134766260782  min\n",
            "Epoch:  19 / 20 | Batch  0 / 843 | Loss: 0.1142\n",
            "Epoch:  19 / 20 | Batch  100 / 843 | Loss: 0.2447\n",
            "Epoch:  19 / 20 | Batch  200 / 843 | Loss: 0.5369\n",
            "Epoch:  19 / 20 | Batch  300 / 843 | Loss: 0.2577\n",
            "Epoch:  19 / 20 | Batch  400 / 843 | Loss: 0.3022\n",
            "Epoch:  19 / 20 | Batch  500 / 843 | Loss: 0.1679\n",
            "Epoch:  19 / 20 | Batch  600 / 843 | Loss: 0.2797\n",
            "Epoch:  19 / 20 | Batch  700 / 843 | Loss: 0.1812\n",
            "Epoch:  19 / 20 | Batch  800 / 843 | Loss: 0.1996\n",
            "Epoch:  19 / 20 | Train: 97.88% | Validation: 97.82%\n",
            "Time elapsed:  10.834176607926686  min\n",
            "Epoch:  20 / 20 | Batch  0 / 843 | Loss: 0.1652\n",
            "Epoch:  20 / 20 | Batch  100 / 843 | Loss: 0.1879\n",
            "Epoch:  20 / 20 | Batch  200 / 843 | Loss: 0.2766\n",
            "Epoch:  20 / 20 | Batch  300 / 843 | Loss: 0.1737\n",
            "Epoch:  20 / 20 | Batch  400 / 843 | Loss: 0.1768\n",
            "Epoch:  20 / 20 | Batch  500 / 843 | Loss: 0.2545\n",
            "Epoch:  20 / 20 | Batch  600 / 843 | Loss: 0.3676\n",
            "Epoch:  20 / 20 | Batch  700 / 843 | Loss: 0.2070\n",
            "Epoch:  20 / 20 | Batch  800 / 843 | Loss: 0.0803\n",
            "Epoch:  20 / 20 | Train: 98.07% | Validation: 97.98%\n",
            "Time elapsed:  11.351097702980042  min\n",
            "Total Training Time: 11.35 min\n",
            "Test accuracy 97.17%\n"
          ]
        }
      ]
    },
    {
      "cell_type": "markdown",
      "source": [],
      "metadata": {
        "id": "povAw5XNglI-"
      }
    },
    {
      "cell_type": "code",
      "source": [
        "import matplotlib.pyplot as plt\n",
        "plt.plot(range(len(minibatch_loss_list)), minibatch_loss_list)\n",
        "plt.xlabel('Iterations')\n",
        "plt.ylabel('Loss')"
      ],
      "metadata": {
        "colab": {
          "base_uri": "https://localhost:8080/",
          "height": 470
        },
        "id": "lfESrd3upc2h",
        "outputId": "aaf43a7f-ba04-443d-ccd7-f549315f707b"
      },
      "execution_count": 57,
      "outputs": [
        {
          "output_type": "execute_result",
          "data": {
            "text/plain": [
              "Text(0, 0.5, 'Loss')"
            ]
          },
          "metadata": {},
          "execution_count": 57
        },
        {
          "output_type": "display_data",
          "data": {
            "text/plain": [
              "<Figure size 640x480 with 1 Axes>"
            ],
            "image/png": "[encoded data removed]"
          },
          "metadata": {}
        }
      ]
    },
    {
      "cell_type": "code",
      "source": [
        "import numpy as np\n",
        "import matplotlib.pyplot as plt\n",
        "\n",
        "num_epochs = len(train_acc_list)\n",
        "plt.plot(np.arange(1, num_epochs+1), train_acc_list, label='Training')\n",
        "plt.plot(np.arange(1, num_epochs+1), valid_acc_list, label='Validation')\n",
        "plt.xlabel('Epoch')\n",
        "plt.ylabel('Accuracy')\n",
        "plt.legend()\n",
        "plt.show()\n"
      ],
      "metadata": {
        "colab": {
          "base_uri": "https://localhost:8080/",
          "height": 449
        },
        "id": "Q66bkB6bf_xW",
        "outputId": "5dee52b5-5647-4f91-8946-c2dadf87c4cd"
      },
      "execution_count": 47,
      "outputs": [
        {
          "output_type": "display_data",
          "data": {
            "text/plain": [
              "<Figure size 640x480 with 1 Axes>"
            ],
            "image/png": "[encoded data removed]"
          },
          "metadata": {}
        }
      ]
    },
    {
      "cell_type": "markdown",
      "source": [],
      "metadata": {
        "id": "I2SHPZOJesxJ"
      }
    }
  ]
}